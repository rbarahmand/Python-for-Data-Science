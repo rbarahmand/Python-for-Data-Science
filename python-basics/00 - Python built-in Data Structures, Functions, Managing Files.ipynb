{
 "cells": [
  {
   "cell_type": "markdown",
   "id": "5f31b287",
   "metadata": {},
   "source": [
    "# Python built-in Data Structures, Functions, Managing Files"
   ]
  },
  {
   "cell_type": "markdown",
   "id": "600227d4",
   "metadata": {},
   "source": [
    "[raw] In this notebook we are going after different kinds of built-in data structures (not the one you typically you use when working with libraries like numpy, pandas, and etc."
   ]
  },
  {
   "cell_type": "markdown",
   "id": "7b2d74ab",
   "metadata": {},
   "source": [
    "## Data Structures"
   ]
  },
  {
   "cell_type": "markdown",
   "id": "4235c4f0",
   "metadata": {},
   "source": [
    "### Tuple"
   ]
  },
  {
   "cell_type": "markdown",
   "id": "23fcae60",
   "metadata": {},
   "source": [
    "A tuple is just like a list that is fixed in length and can't be changed, once you created one you can't either change it's values or adding anything to it. "
   ]
  },
  {
   "cell_type": "code",
   "execution_count": 2,
   "id": "feabbabc",
   "metadata": {},
   "outputs": [
    {
     "data": {
      "text/plain": [
       "(11, 3, 4, 34)"
      ]
     },
     "execution_count": 2,
     "metadata": {},
     "output_type": "execute_result"
    }
   ],
   "source": [
    "sample_tuple = (11, 3, 4, 34)\n",
    "sample_tuple"
   ]
  },
  {
   "cell_type": "markdown",
   "id": "1b4c33c4",
   "metadata": {},
   "source": [
    "Defining tuples within a tuple (nested tuples)"
   ]
  },
  {
   "cell_type": "code",
   "execution_count": 3,
   "id": "04c8e125",
   "metadata": {},
   "outputs": [
    {
     "data": {
      "text/plain": [
       "((4, 5, 6), (7, 8))"
      ]
     },
     "execution_count": 3,
     "metadata": {},
     "output_type": "execute_result"
    }
   ],
   "source": [
    "sample_nested_tup = ((4, 5, 6), (7, 8))\n",
    "sample_nested_tup"
   ]
  },
  {
   "cell_type": "markdown",
   "id": "d2f1906e",
   "metadata": {},
   "source": [
    "Changing other python objects to tuple "
   ]
  },
  {
   "cell_type": "code",
   "execution_count": 4,
   "id": "a37d5d85",
   "metadata": {},
   "outputs": [
    {
     "data": {
      "text/plain": [
       "(10, 33, 65)"
      ]
     },
     "execution_count": 4,
     "metadata": {},
     "output_type": "execute_result"
    }
   ],
   "source": [
    "tuple([10, 33, 65])"
   ]
  },
  {
   "cell_type": "code",
   "execution_count": 7,
   "id": "4834ae95",
   "metadata": {},
   "outputs": [],
   "source": [
    "my_tuple_name = tuple('Reza')"
   ]
  },
  {
   "cell_type": "markdown",
   "id": "9f70e0fb",
   "metadata": {},
   "source": [
    "Indexing in a tuple"
   ]
  },
  {
   "cell_type": "code",
   "execution_count": 8,
   "id": "627d0867",
   "metadata": {},
   "outputs": [
    {
     "data": {
      "text/plain": [
       "'R'"
      ]
     },
     "execution_count": 8,
     "metadata": {},
     "output_type": "execute_result"
    }
   ],
   "source": [
    "my_tuple_name[0]"
   ]
  },
  {
   "cell_type": "code",
   "execution_count": 10,
   "id": "3fbcd503",
   "metadata": {},
   "outputs": [
    {
     "data": {
      "text/plain": [
       "'a'"
      ]
     },
     "execution_count": 10,
     "metadata": {},
     "output_type": "execute_result"
    }
   ],
   "source": [
    "my_tuple_name[-1]"
   ]
  },
  {
   "cell_type": "code",
   "execution_count": 11,
   "id": "c22e2b22",
   "metadata": {},
   "outputs": [
    {
     "data": {
      "text/plain": [
       "'e'"
      ]
     },
     "execution_count": 11,
     "metadata": {},
     "output_type": "execute_result"
    }
   ],
   "source": [
    "my_tuple_name[1]"
   ]
  },
  {
   "cell_type": "code",
   "execution_count": 12,
   "id": "d4e997f8",
   "metadata": {},
   "outputs": [],
   "source": [
    "combined_tuple = ('Reza', [1, 3 ,5], False)"
   ]
  },
  {
   "cell_type": "code",
   "execution_count": 16,
   "id": "f3db3130",
   "metadata": {},
   "outputs": [
    {
     "data": {
      "text/plain": [
       "3"
      ]
     },
     "execution_count": 16,
     "metadata": {},
     "output_type": "execute_result"
    }
   ],
   "source": [
    "combined_tuple[1][1]"
   ]
  },
  {
   "cell_type": "markdown",
   "id": "0c90fdb9",
   "metadata": {},
   "source": [
    "If you had a mutable object within a tuple, you can change it in place (like lists, dictionaries, etc)"
   ]
  },
  {
   "cell_type": "code",
   "execution_count": 17,
   "id": "76299631",
   "metadata": {},
   "outputs": [],
   "source": [
    "combined_tuple[1][1] = 6"
   ]
  },
  {
   "cell_type": "code",
   "execution_count": 19,
   "id": "dd25bcb4",
   "metadata": {},
   "outputs": [],
   "source": [
    "combined_tuple[1].append(11)"
   ]
  },
  {
   "cell_type": "code",
   "execution_count": 20,
   "id": "9e7d404a",
   "metadata": {},
   "outputs": [
    {
     "data": {
      "text/plain": [
       "('Reza', [1, 6, 5, 11], False)"
      ]
     },
     "execution_count": 20,
     "metadata": {},
     "output_type": "execute_result"
    }
   ],
   "source": [
    "combined_tuple"
   ]
  },
  {
   "cell_type": "markdown",
   "id": "348c73e1",
   "metadata": {},
   "source": [
    "Some logical operations on tuples"
   ]
  },
  {
   "cell_type": "code",
   "execution_count": 21,
   "id": "88631941",
   "metadata": {},
   "outputs": [
    {
     "data": {
      "text/plain": [
       "(1, 3, 4, False, True, 'S', 't', 'r', 'i', 'n', 'g')"
      ]
     },
     "execution_count": 21,
     "metadata": {},
     "output_type": "execute_result"
    }
   ],
   "source": [
    "(1, 3, 4) + (False, True) + tuple('String')"
   ]
  },
  {
   "cell_type": "code",
   "execution_count": 23,
   "id": "3946b9e6",
   "metadata": {},
   "outputs": [
    {
     "data": {
      "text/plain": [
       "('1',\n",
       " '2',\n",
       " '3',\n",
       " '1',\n",
       " '2',\n",
       " '3',\n",
       " '1',\n",
       " '2',\n",
       " '3',\n",
       " '1',\n",
       " '2',\n",
       " '3',\n",
       " '1',\n",
       " '2',\n",
       " '3',\n",
       " '1',\n",
       " '2',\n",
       " '3',\n",
       " '1',\n",
       " '2',\n",
       " '3',\n",
       " '1',\n",
       " '2',\n",
       " '3')"
      ]
     },
     "execution_count": 23,
     "metadata": {},
     "output_type": "execute_result"
    }
   ],
   "source": [
    "tuple('123') * 8"
   ]
  },
  {
   "cell_type": "markdown",
   "id": "1b590621",
   "metadata": {},
   "source": [
    "#### unpack a tuple "
   ]
  },
  {
   "cell_type": "code",
   "execution_count": 24,
   "id": "9bd40ad4",
   "metadata": {},
   "outputs": [],
   "source": [
    "tup_unpacking = (4, 3, 1, True)\n",
    "a, b, c, d = tup_unpacking"
   ]
  },
  {
   "cell_type": "code",
   "execution_count": 25,
   "id": "a26ac40d",
   "metadata": {},
   "outputs": [
    {
     "data": {
      "text/plain": [
       "True"
      ]
     },
     "execution_count": 25,
     "metadata": {},
     "output_type": "execute_result"
    }
   ],
   "source": [
    "d"
   ]
  },
  {
   "cell_type": "code",
   "execution_count": 26,
   "id": "c8789b04",
   "metadata": {},
   "outputs": [
    {
     "data": {
      "text/plain": [
       "4"
      ]
     },
     "execution_count": 26,
     "metadata": {},
     "output_type": "execute_result"
    }
   ],
   "source": [
    "a"
   ]
  },
  {
   "cell_type": "code",
   "execution_count": 27,
   "id": "f8f433cc",
   "metadata": {},
   "outputs": [
    {
     "data": {
      "text/plain": [
       "3"
      ]
     },
     "execution_count": 27,
     "metadata": {},
     "output_type": "execute_result"
    }
   ],
   "source": [
    "b"
   ]
  },
  {
   "cell_type": "code",
   "execution_count": 28,
   "id": "af0c20aa",
   "metadata": {},
   "outputs": [],
   "source": [
    "tup_1 = (1, 2, ('x', 'y'))"
   ]
  },
  {
   "cell_type": "code",
   "execution_count": 29,
   "id": "f0094ca8",
   "metadata": {},
   "outputs": [],
   "source": [
    "q, w, (z, h) = tup_1"
   ]
  },
  {
   "cell_type": "code",
   "execution_count": 30,
   "id": "07807eef",
   "metadata": {},
   "outputs": [
    {
     "data": {
      "text/plain": [
       "'y'"
      ]
     },
     "execution_count": 30,
     "metadata": {},
     "output_type": "execute_result"
    }
   ],
   "source": [
    "h"
   ]
  },
  {
   "cell_type": "markdown",
   "id": "5a5b9a2c",
   "metadata": {},
   "source": [
    "We also iterate over sequences of tuples "
   ]
  },
  {
   "cell_type": "code",
   "execution_count": 31,
   "id": "cc1e9002",
   "metadata": {},
   "outputs": [],
   "source": [
    "seq_tuple = [(1, 2, 3), (4, 5, 6), ('x', 'y', 'z')]"
   ]
  },
  {
   "cell_type": "code",
   "execution_count": 33,
   "id": "2d2c26e1",
   "metadata": {},
   "outputs": [
    {
     "name": "stdout",
     "output_type": "stream",
     "text": [
      "a=1, b=2, c=3\n",
      "a=4, b=5, c=6\n",
      "a=x, b=y, c=z\n"
     ]
    }
   ],
   "source": [
    "for a, b, c, in seq_tuple:\n",
    "    print('a={0}, b={1}, c={2}'.format(a, b, c))"
   ]
  },
  {
   "cell_type": "markdown",
   "id": "b13d1dc4",
   "metadata": {},
   "source": [
    "advancing with unpacking "
   ]
  },
  {
   "cell_type": "code",
   "execution_count": 38,
   "id": "7f000c9a",
   "metadata": {},
   "outputs": [
    {
     "data": {
      "text/plain": [
       "(4, 3, 1, True)"
      ]
     },
     "execution_count": 38,
     "metadata": {},
     "output_type": "execute_result"
    }
   ],
   "source": [
    "tup_unpacking"
   ]
  },
  {
   "cell_type": "code",
   "execution_count": 39,
   "id": "1f03b0a5",
   "metadata": {},
   "outputs": [],
   "source": [
    "k, l, *other =  tup_unpacking"
   ]
  },
  {
   "cell_type": "code",
   "execution_count": 40,
   "id": "5c59bf08",
   "metadata": {},
   "outputs": [
    {
     "data": {
      "text/plain": [
       "4"
      ]
     },
     "execution_count": 40,
     "metadata": {},
     "output_type": "execute_result"
    }
   ],
   "source": [
    "k"
   ]
  },
  {
   "cell_type": "code",
   "execution_count": 41,
   "id": "86357873",
   "metadata": {},
   "outputs": [
    {
     "data": {
      "text/plain": [
       "3"
      ]
     },
     "execution_count": 41,
     "metadata": {},
     "output_type": "execute_result"
    }
   ],
   "source": [
    "l"
   ]
  },
  {
   "cell_type": "code",
   "execution_count": 42,
   "id": "6e9ba12c",
   "metadata": {},
   "outputs": [
    {
     "data": {
      "text/plain": [
       "[1, True]"
      ]
     },
     "execution_count": 42,
     "metadata": {},
     "output_type": "execute_result"
    }
   ],
   "source": [
    "other"
   ]
  },
  {
   "cell_type": "code",
   "execution_count": 44,
   "id": "7fe3884b",
   "metadata": {},
   "outputs": [],
   "source": [
    "# many developers use _ for unwanted values\n",
    "k, l, *_ = tup_unpacking"
   ]
  },
  {
   "cell_type": "markdown",
   "id": "5f27c1d7",
   "metadata": {},
   "source": [
    "#### Useful tuple methods"
   ]
  },
  {
   "cell_type": "markdown",
   "id": "0878891b",
   "metadata": {},
   "source": [
    "To counts the number of occurrences of a value"
   ]
  },
  {
   "cell_type": "code",
   "execution_count": 45,
   "id": "f38dcf9f",
   "metadata": {},
   "outputs": [],
   "source": [
    "tup_2 = 1, 3, 3, 3, 4, 4, 4, 4, 6, 6        # Tuples can also describe like this"
   ]
  },
  {
   "cell_type": "code",
   "execution_count": 46,
   "id": "d68a101b",
   "metadata": {},
   "outputs": [
    {
     "data": {
      "text/plain": [
       "(1, 3, 3, 3, 4, 4, 4, 4, 6, 6)"
      ]
     },
     "execution_count": 46,
     "metadata": {},
     "output_type": "execute_result"
    }
   ],
   "source": [
    "tup_2"
   ]
  },
  {
   "cell_type": "code",
   "execution_count": 47,
   "id": "f5ab1c43",
   "metadata": {},
   "outputs": [
    {
     "data": {
      "text/plain": [
       "tuple"
      ]
     },
     "execution_count": 47,
     "metadata": {},
     "output_type": "execute_result"
    }
   ],
   "source": [
    "type(tup_2)"
   ]
  },
  {
   "cell_type": "code",
   "execution_count": 48,
   "id": "a71a38d5",
   "metadata": {},
   "outputs": [
    {
     "data": {
      "text/plain": [
       "2"
      ]
     },
     "execution_count": 48,
     "metadata": {},
     "output_type": "execute_result"
    }
   ],
   "source": [
    "tup_2.count(6)"
   ]
  },
  {
   "cell_type": "markdown",
   "id": "b952294d",
   "metadata": {},
   "source": [
    "To see how many items is inside the tuple"
   ]
  },
  {
   "cell_type": "code",
   "execution_count": 49,
   "id": "b307272d",
   "metadata": {},
   "outputs": [
    {
     "data": {
      "text/plain": [
       "10"
      ]
     },
     "execution_count": 49,
     "metadata": {},
     "output_type": "execute_result"
    }
   ],
   "source": [
    "len(tup_2)"
   ]
  },
  {
   "cell_type": "markdown",
   "id": "73fd8a0a",
   "metadata": {},
   "source": [
    "### List"
   ]
  },
  {
   "cell_type": "code",
   "execution_count": null,
   "id": "744403f0",
   "metadata": {},
   "outputs": [],
   "source": []
  }
 ],
 "metadata": {
  "kernelspec": {
   "display_name": "Python 3.10.4 64-bit",
   "language": "python",
   "name": "python3"
  },
  "language_info": {
   "codemirror_mode": {
    "name": "ipython",
    "version": 3
   },
   "file_extension": ".py",
   "mimetype": "text/x-python",
   "name": "python",
   "nbconvert_exporter": "python",
   "pygments_lexer": "ipython3",
   "version": "3.10.4"
  },
  "vscode": {
   "interpreter": {
    "hash": "596e5142b030eca14d4f284fcb92e0185ed224d2bc0dd03426085f63621e70e7"
   }
  }
 },
 "nbformat": 4,
 "nbformat_minor": 5
}
